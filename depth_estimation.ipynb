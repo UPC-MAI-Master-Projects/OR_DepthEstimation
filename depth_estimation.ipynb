{
  "cells": [
    {
      "cell_type": "markdown",
      "metadata": {
        "id": "CWksYjIDtO6u"
      },
      "source": [
        "# Depth image estimation from RGB data.\n",
        "\n",
        "This is a baseline notebook to estimate depth from RGB images using a basic UNET architecture, taken from [keras-unet](https://pypi.org/project/keras-unet-collection/) library, and L2 loss.\n",
        "\n",
        "The model is trained using the preprocessed sample (03543) available in the starter kit. The first 200 frames used for training, and the next 50 for validation and the last 50 for test sets. The data directory structure follows:\n",
        "\n",
        "--- root\n",
        "> --- image\n",
        ">> --- \\<sample\\>_\\<frame number\\>.jpg\n",
        "\n",
        "> --- depth\n",
        ">> --- \\<sample\\>_\\<frame number\\>.npy\n",
        "\n",
        "NOTE: the RGB and depth images have not been cropped. They have a shape of (640, 480). The UNET in this baseline works in the original resolution. However, this makes the training slow. You'd better to use smaller resolutions by the help of cropping. In this case you can also increase the batch size.\n",
        "\n"
      ]
    },
    {
      "cell_type": "markdown",
      "metadata": {
        "id": "6FAQ2t_7vwep"
      },
      "source": [
        "## Install UNET library"
      ]
    },
    {
      "cell_type": "code",
      "execution_count": 1,
      "metadata": {
        "colab": {
          "base_uri": "https://localhost:8080/"
        },
        "id": "LY8D7eHIv1Nu",
        "outputId": "cb36202c-62b3-40a4-bdf0-ff31b70d6d81"
      },
      "outputs": [
        {
          "name": "stdout",
          "output_type": "stream",
          "text": [
            "Collecting keras-unet-collection\n",
            "  Downloading keras_unet_collection-0.1.13-py3-none-any.whl.metadata (8.0 kB)\n",
            "Downloading keras_unet_collection-0.1.13-py3-none-any.whl (67 kB)\n",
            "\u001b[2K   \u001b[90m━━━━━━━━━━━━━━━━━━━━━━━━━━━━━━━━━━━━━━━━\u001b[0m \u001b[32m67.9/67.9 kB\u001b[0m \u001b[31m953.2 kB/s\u001b[0m eta \u001b[36m0:00:00\u001b[0ma \u001b[36m0:00:01\u001b[0m\n",
            "\u001b[?25hInstalling collected packages: keras-unet-collection\n",
            "Successfully installed keras-unet-collection-0.1.13\n"
          ]
        }
      ],
      "source": [
        "!pip install keras-unet-collection"
      ]
    },
    {
      "cell_type": "markdown",
      "metadata": {
        "id": "7CS5zNyhSOqQ"
      },
      "source": [
        "## Mount google drive and import libraries"
      ]
    },
    {
      "cell_type": "code",
      "execution_count": 3,
      "metadata": {
        "colab": {
          "base_uri": "https://localhost:8080/"
        },
        "id": "_1lJGJMFJeJq",
        "outputId": "40bd64ef-8448-4261-fb01-8377d6590aa6"
      },
      "outputs": [],
      "source": [
        "# Download and unzip the data\n",
        "# from google.colab import drive\n",
        "# drive.mount('/gdrive', force_remount=True)"
      ]
    },
    {
      "cell_type": "code",
      "execution_count": 4,
      "metadata": {
        "id": "dC2D30uGS7YT"
      },
      "outputs": [
        {
          "name": "stderr",
          "output_type": "stream",
          "text": [
            "2024-04-30 12:16:07.580858: I tensorflow/core/util/port.cc:110] oneDNN custom operations are on. You may see slightly different numerical results due to floating-point round-off errors from different computation orders. To turn them off, set the environment variable `TF_ENABLE_ONEDNN_OPTS=0`.\n",
            "2024-04-30 12:16:07.709261: I tensorflow/core/platform/cpu_feature_guard.cc:182] This TensorFlow binary is optimized to use available CPU instructions in performance-critical operations.\n",
            "To enable the following instructions: AVX2 AVX_VNNI FMA, in other operations, rebuild TensorFlow with the appropriate compiler flags.\n",
            "2024-04-30 12:16:08.361235: W tensorflow/compiler/tf2tensorrt/utils/py_utils.cc:38] TF-TRT Warning: Could not find TensorRT\n"
          ]
        }
      ],
      "source": [
        "import tensorflow as tf\n",
        "from tensorflow import keras\n",
        "from keras_unet_collection import models\n",
        "from keras_unet_collection.utils import dummy_loader\n",
        "import numpy as np\n",
        "import cv2\n",
        "import gc\n",
        "import random\n",
        "import pickle"
      ]
    },
    {
      "cell_type": "markdown",
      "metadata": {
        "id": "kOCosasPx9w9"
      },
      "source": [
        "## We implement a data generator class to load the data in batches\n",
        "\n",
        "DataGenerator is initialized by several input variables:\n",
        "- **data_list** which is a list of video names for either training, validation or test sets,\n",
        "- **root** is the root path to the target set (i.e. training, validation or test),\n",
        "- **batch_size** is the batch size,\n",
        "- **shuffle** is indicating whether shuffling the data list or not.\n",
        "\n",
        "NOTE 1: we perform a normalization on the image and depth images. The per image normalization is a subtraction of the mean followed by a division by standard deviation. The depth normalization is a subtraction of the minimum depth (plus a small margin to differentiate from the background) divided by a fixed scaler. The scaler is used to ensure the depth range is [0..1]. We assume the possible maximum depth is 2 meters and use it as the scaler. Also we apply a fixed scaler to be able to easily reconstruct the real depth at inference time.\n",
        "\n",
        "NOTE 2: in this notebook we do not use the depth scaler at inference time nor computing the metrics. You must note that the measured metrics won't be comparable if you do not reconstruct the depth back to its original space. For instance, by changing the scaler value the range of predicted depth values will be different.\n",
        "\n",
        "NOTE 3: depth normalization is applied on the foreground values. The background remains zero.\n"
      ]
    },
    {
      "cell_type": "code",
      "execution_count": 5,
      "metadata": {
        "id": "3WWJUjal8ZBs"
      },
      "outputs": [],
      "source": [
        "class DataGenerator(tf.keras.utils.Sequence):\n",
        "    'Generates data for Keras'\n",
        "    def __init__(self, data_list, root, batch_size=16, shuffle=True):\n",
        "        super().__init__()\n",
        "        'Initialization'\n",
        "        self.data_list = data_list\n",
        "        self.root = root\n",
        "        self.batch_size = batch_size\n",
        "        self.shuffle = shuffle\n",
        "        self.on_epoch_end()\n",
        "\n",
        "    def __len__(self):\n",
        "        'Denotes the number of batches per epoch'\n",
        "        return int(np.floor(len(self.data_list) / self.batch_size))\n",
        "\n",
        "    def __getitem__(self, index):\n",
        "        'Generate one batch of data'\n",
        "        # Find list of IDs\n",
        "        data_list_temp = self.getdatalist(index)\n",
        "\n",
        "        # Generate data\n",
        "        X, y = self.__data_generation(data_list_temp)\n",
        "        \n",
        "        return X, y\n",
        "\n",
        "    def getdatalist(self, index):\n",
        "        'Get the list of data for one batch of data'\n",
        "        # Generate indexes of the batch\n",
        "        indexes = self.indexes[index*self.batch_size:(index+1)*self.batch_size]\n",
        "\n",
        "        # Find list of IDs\n",
        "        data_list_batch = [self.data_list[k] for k in indexes]\n",
        "\n",
        "        return data_list_batch\n",
        "\n",
        "    def on_epoch_end(self):\n",
        "        'Updates indexes after each epoch'\n",
        "        self.indexes = np.arange(len(self.data_list))\n",
        "        if self.shuffle == True:\n",
        "            np.random.shuffle(self.indexes)\n",
        "\n",
        "    def __data_generation(self, data_list):\n",
        "      'Generates data containing batch_size samples'\n",
        "      X_img, Y_depth = [], []\n",
        "      for f in data_list:\n",
        "        # Load depth image\n",
        "        dpt = np.load(open(self.root+'/depth/'+f+'.npy', 'rb'))\n",
        "        mask = dpt>0\n",
        "        # Normalize depth image\n",
        "        min = dpt[mask].min()\n",
        "        mean = dpt[mask].mean()\n",
        "        max = dpt[mask].max()\n",
        "        dpt[mask] = (dpt[mask] - min + 0.001) / 2.0\n",
        "        Y_depth.append(dpt)\n",
        "\n",
        "        # Read RGB image\n",
        "        img = cv2.imread(self.root+'/image/'+f+'.jpg')\n",
        "        img = cv2.cvtColor(img, cv2.COLOR_BGR2RGB).astype(np.float32)\n",
        "        # Normalize RGB image\n",
        "        r_mean, g_mean, b_mean = [img[:, :, 0][mask].mean(), img[:, :, 1][mask].mean(), img[:, :, 2][mask].mean()]\n",
        "        r_std, g_std, b_std = [img[:, :, 0][mask].std(), img[:, :, 1][mask].std(), img[:, :, 2][mask].std()]\n",
        "        img[:, :, 0][mask] = (img[:, :, 0][mask] - r_mean) / (r_std + 0.0001)\n",
        "        img[:, :, 1][mask] = (img[:, :, 1][mask] - g_mean) / (g_std + 0.0001)\n",
        "        img[:, :, 2][mask] = (img[:, :, 2][mask] - b_mean) / (b_std + 0.0001)\n",
        "        X_img.append(img)\n",
        "\n",
        "      return np.array(X_img, np.float32), np.array(Y_depth, np.float32)"
      ]
    },
    {
      "cell_type": "markdown",
      "metadata": {
        "id": "hNVJKk4qHBP5"
      },
      "source": [
        "## Build the network\n",
        "\n",
        "You can check [here](https://github.com/yingkaisha/keras-unet-collection/blob/main/examples/user_guide_models.ipynb) for the UNET configurations."
      ]
    },
    {
      "cell_type": "code",
      "execution_count": 6,
      "metadata": {
        "colab": {
          "base_uri": "https://localhost:8080/",
          "height": 1000
        },
        "id": "cRNnMZC93WFU",
        "outputId": "9944108c-76fb-48df-d671-17241319e600"
      },
      "outputs": [
        {
          "name": "stderr",
          "output_type": "stream",
          "text": [
            "2024-04-30 12:16:11.983617: I tensorflow/compiler/xla/stream_executor/cuda/cuda_gpu_executor.cc:995] successful NUMA node read from SysFS had negative value (-1), but there must be at least one NUMA node, so returning NUMA node zero. See more at https://github.com/torvalds/linux/blob/v6.0/Documentation/ABI/testing/sysfs-bus-pci#L344-L355\n",
            "2024-04-30 12:16:12.044741: I tensorflow/compiler/xla/stream_executor/cuda/cuda_gpu_executor.cc:995] successful NUMA node read from SysFS had negative value (-1), but there must be at least one NUMA node, so returning NUMA node zero. See more at https://github.com/torvalds/linux/blob/v6.0/Documentation/ABI/testing/sysfs-bus-pci#L344-L355\n",
            "2024-04-30 12:16:12.045074: I tensorflow/compiler/xla/stream_executor/cuda/cuda_gpu_executor.cc:995] successful NUMA node read from SysFS had negative value (-1), but there must be at least one NUMA node, so returning NUMA node zero. See more at https://github.com/torvalds/linux/blob/v6.0/Documentation/ABI/testing/sysfs-bus-pci#L344-L355\n",
            "2024-04-30 12:16:12.047793: I tensorflow/compiler/xla/stream_executor/cuda/cuda_gpu_executor.cc:995] successful NUMA node read from SysFS had negative value (-1), but there must be at least one NUMA node, so returning NUMA node zero. See more at https://github.com/torvalds/linux/blob/v6.0/Documentation/ABI/testing/sysfs-bus-pci#L344-L355\n",
            "2024-04-30 12:16:12.047910: I tensorflow/compiler/xla/stream_executor/cuda/cuda_gpu_executor.cc:995] successful NUMA node read from SysFS had negative value (-1), but there must be at least one NUMA node, so returning NUMA node zero. See more at https://github.com/torvalds/linux/blob/v6.0/Documentation/ABI/testing/sysfs-bus-pci#L344-L355\n",
            "2024-04-30 12:16:12.047984: I tensorflow/compiler/xla/stream_executor/cuda/cuda_gpu_executor.cc:995] successful NUMA node read from SysFS had negative value (-1), but there must be at least one NUMA node, so returning NUMA node zero. See more at https://github.com/torvalds/linux/blob/v6.0/Documentation/ABI/testing/sysfs-bus-pci#L344-L355\n",
            "2024-04-30 12:16:12.094180: I tensorflow/compiler/xla/stream_executor/cuda/cuda_gpu_executor.cc:995] successful NUMA node read from SysFS had negative value (-1), but there must be at least one NUMA node, so returning NUMA node zero. See more at https://github.com/torvalds/linux/blob/v6.0/Documentation/ABI/testing/sysfs-bus-pci#L344-L355\n",
            "2024-04-30 12:16:12.094301: I tensorflow/compiler/xla/stream_executor/cuda/cuda_gpu_executor.cc:995] successful NUMA node read from SysFS had negative value (-1), but there must be at least one NUMA node, so returning NUMA node zero. See more at https://github.com/torvalds/linux/blob/v6.0/Documentation/ABI/testing/sysfs-bus-pci#L344-L355\n",
            "2024-04-30 12:16:12.094363: I tensorflow/compiler/xla/stream_executor/cuda/cuda_gpu_executor.cc:995] successful NUMA node read from SysFS had negative value (-1), but there must be at least one NUMA node, so returning NUMA node zero. See more at https://github.com/torvalds/linux/blob/v6.0/Documentation/ABI/testing/sysfs-bus-pci#L344-L355\n",
            "2024-04-30 12:16:12.094434: I tensorflow/core/common_runtime/gpu/gpu_device.cc:1639] Created device /job:localhost/replica:0/task:0/device:GPU:0 with 6264 MB memory:  -> device: 0, name: NVIDIA GeForce RTX 4070 Laptop GPU, pci bus id: 0000:01:00.0, compute capability: 8.9\n"
          ]
        },
        {
          "name": "stdout",
          "output_type": "stream",
          "text": [
            "You must install pydot (`pip install pydot`) and install graphviz (see instructions at https://graphviz.gitlab.io/download/) for plot_model to work.\n"
          ]
        }
      ],
      "source": [
        "# Create model\n",
        "model = models.unet_2d((480, 640, 3), [64, 128, 256, 512, 1024], n_labels=1,\n",
        "                      stack_num_down=2, stack_num_up=1,\n",
        "                      activation='GELU', output_activation='Sigmoid', \n",
        "                      batch_norm=True, pool='max', unpool=False, name='unet')\n",
        "\n",
        "tf.keras.utils.plot_model(model, show_shapes=True)"
      ]
    },
    {
      "cell_type": "markdown",
      "metadata": {
        "id": "O7BqBYUt6JlO"
      },
      "source": [
        "## Read the list of train, validation and test files"
      ]
    },
    {
      "cell_type": "code",
      "execution_count": 8,
      "metadata": {
        "id": "xBTOFr2MJ_9c"
      },
      "outputs": [],
      "source": [
        "# Read the data lists\n",
        "# root = '/gdrive/MyDrive/cloth3d/data/'\n",
        "root = 'cloth3d/data/'\n",
        "with open(root+'train.txt', 'r') as f:\n",
        "  train_list = f.readlines()\n",
        "  for i in range(len(train_list)):\n",
        "    train_list[i] = train_list[i].rsplit('\\n',1)[0]\n",
        "\n",
        "with open(root+'validation.txt', 'r') as f:\n",
        "  validation_list = f.readlines()\n",
        "  for i in range(len(validation_list)):\n",
        "    validation_list[i] = validation_list[i].rsplit('\\n',1)[0]\n",
        "\n",
        "with open(root+'test.txt', 'r') as f:\n",
        "  test_list = f.readlines()\n",
        "  for i in range(len(test_list)):\n",
        "    test_list[i] = test_list[i].rsplit('\\n',1)[0]"
      ]
    },
    {
      "cell_type": "markdown",
      "metadata": {
        "id": "6A1JqpAT6aQi"
      },
      "source": [
        "## Training and evaluation\n",
        "\n",
        "The model is trained with adam optimizer with a learning rate of 0.001 and mean square error (L2) loss function. The batch size is 2 and the model is trained for 10 epochs. Also a callback is defined to save the best trained model by monitoring mean absolute error on the validation set. Finally the history log is saved in the defined path and model is evaluated on the test set."
      ]
    },
    {
      "cell_type": "code",
      "execution_count": 12,
      "metadata": {
        "id": "-5O3UKTIiGZ-"
      },
      "outputs": [],
      "source": [
        "# hyperparameters\n",
        "lr = 1e-3\n",
        "batch_size = 1\n",
        "n_epochs = 10\n",
        "checkpoint = './best_model.h5'\n",
        "shuffle = True\n",
        "verbose = 1"
      ]
    },
    {
      "cell_type": "code",
      "execution_count": 13,
      "metadata": {
        "colab": {
          "base_uri": "https://localhost:8080/"
        },
        "id": "tga2hMapZsib",
        "outputId": "23ff3ca0-927f-42a6-aacd-abb765f37eec"
      },
      "outputs": [
        {
          "name": "stdout",
          "output_type": "stream",
          "text": [
            "Epoch 1/10\n"
          ]
        },
        {
          "name": "stderr",
          "output_type": "stream",
          "text": [
            "2024-04-30 12:22:27.647417: I tensorflow/compiler/xla/service/service.cc:168] XLA service 0x61a449d8b740 initialized for platform CUDA (this does not guarantee that XLA will be used). Devices:\n",
            "2024-04-30 12:22:27.647437: I tensorflow/compiler/xla/service/service.cc:176]   StreamExecutor device (0): NVIDIA GeForce RTX 4070 Laptop GPU, Compute Capability 8.9\n",
            "2024-04-30 12:22:27.662999: I tensorflow/compiler/mlir/tensorflow/utils/dump_mlir_util.cc:255] disabling MLIR crash reproducer, set env var `MLIR_CRASH_REPRODUCER_DIRECTORY` to enable.\n",
            "2024-04-30 12:22:27.778095: I ./tensorflow/compiler/jit/device_compiler.h:186] Compiled cluster using XLA!  This line is logged at most once for the lifetime of the process.\n"
          ]
        },
        {
          "name": "stdout",
          "output_type": "stream",
          "text": [
            "200/200 [==============================] - 82s 346ms/step - loss: 0.0170 - mae: 0.0829 - val_loss: 0.0018 - val_mae: 0.0248\n",
            "Epoch 2/10\n",
            "200/200 [==============================] - 69s 345ms/step - loss: 7.6480e-04 - mae: 0.0242 - val_loss: 4.7183e-04 - val_mae: 0.0171\n",
            "Epoch 3/10\n",
            "200/200 [==============================] - 69s 345ms/step - loss: 3.0430e-04 - mae: 0.0150 - val_loss: 3.1957e-04 - val_mae: 0.0133\n",
            "Epoch 4/10\n",
            "200/200 [==============================] - 69s 345ms/step - loss: 2.0052e-04 - mae: 0.0115 - val_loss: 1.7277e-04 - val_mae: 0.0100\n",
            "Epoch 5/10\n",
            "200/200 [==============================] - 69s 345ms/step - loss: 1.5609e-04 - mae: 0.0095 - val_loss: 4.0171e-04 - val_mae: 0.0099\n",
            "Epoch 6/10\n",
            "200/200 [==============================] - 69s 345ms/step - loss: 1.2118e-04 - mae: 0.0081 - val_loss: 1.1569e-04 - val_mae: 0.0070\n",
            "Epoch 7/10\n",
            "200/200 [==============================] - 69s 345ms/step - loss: 7.4265e-05 - mae: 0.0066 - val_loss: 9.9620e-05 - val_mae: 0.0065\n",
            "Epoch 8/10\n",
            "200/200 [==============================] - 69s 345ms/step - loss: 6.2020e-05 - mae: 0.0058 - val_loss: 9.2170e-05 - val_mae: 0.0059\n",
            "Epoch 9/10\n",
            "200/200 [==============================] - 69s 345ms/step - loss: 4.8777e-05 - mae: 0.0051 - val_loss: 9.0038e-05 - val_mae: 0.0056\n",
            "Epoch 10/10\n",
            "200/200 [==============================] - 69s 345ms/step - loss: 3.8415e-05 - mae: 0.0044 - val_loss: 7.6618e-05 - val_mae: 0.0049\n"
          ]
        }
      ],
      "source": [
        "# Training\n",
        "\n",
        "# creating data generators to load the data\n",
        "train_dg = DataGenerator(train_list, root, batch_size=batch_size, shuffle=shuffle)\n",
        "validation_dg = DataGenerator(validation_list, root, batch_size=batch_size, shuffle=False)\n",
        "\n",
        "# defining the optimizer\n",
        "model.compile(tf.keras.optimizers.Adam(learning_rate=lr), loss=tf.keras.losses.MeanSquaredError(), metrics=['mae'])\n",
        "\n",
        "es = tf.keras.callbacks.EarlyStopping(monitor='val_mae', patience=3)\n",
        "\n",
        "# saving the best model based on val_loss\n",
        "mc = tf.keras.callbacks.ModelCheckpoint(checkpoint, monitor='val_mae', mode='min', save_best_only=True)\n",
        "\n",
        "# training the model and saving the history\n",
        "history = model.fit(train_dg, validation_data=validation_dg, epochs=n_epochs, verbose=verbose, callbacks=[mc,es])\n",
        "\n",
        "with open('./train_history.pkl', 'wb') as handle:\n",
        "  pickle.dump(history.history, handle, protocol=pickle.HIGHEST_PROTOCOL)"
      ]
    },
    {
      "cell_type": "code",
      "execution_count": null,
      "metadata": {
        "colab": {
          "base_uri": "https://localhost:8080/"
        },
        "id": "IquOidRFXhW2",
        "outputId": "0fa74421-7cec-4428-87c5-a5cf23859f9e"
      },
      "outputs": [
        {
          "name": "stdout",
          "output_type": "stream",
          "text": [
            "Evaluating on the test set\n",
            "The final mean absolute error is 0.047\n",
            "\n"
          ]
        }
      ],
      "source": [
        "# Evaluate the trained model on the test set\n",
        "\n",
        "test_dg = DataGenerator(test_list, root, batch_size=1, shuffle=False)\n",
        "\n",
        "model.load_weights(checkpoint)\n",
        "\n",
        "print('Evaluating on the test set')\n",
        "\n",
        "_mae = 0\n",
        "for step in range(test_dg.__len__()):\n",
        "  # Load the batch\n",
        "  X, Y = test_dg.__getitem__(step)\n",
        "  \n",
        "  # validate on one batch\n",
        "  prediction = model.predict(tf.convert_to_tensor(X, dtype=tf.float32), verbose=0)\n",
        "  \n",
        "  # Note that in the evaluation the background is ignored\n",
        "  # Therefore the MAE on the test set is not comparable with the train/validation\n",
        "  _mae += np.abs(prediction[Y!=0] - Y[Y!=0]).mean()\n",
        "\n",
        "  # Some house keeping\n",
        "  gc.collect()\n",
        "  tf.keras.backend.clear_session()\n",
        "\n",
        "print(\"The final mean absolute error is {0:.3f}\\n\".format(_mae/(step+1)))"
      ]
    },
    {
      "cell_type": "markdown",
      "metadata": {
        "id": "Xy8A4tnqFwMM"
      },
      "source": [
        "## Visualizing the history: train and validation loss and MAE for each epoch"
      ]
    },
    {
      "cell_type": "code",
      "execution_count": null,
      "metadata": {
        "colab": {
          "base_uri": "https://localhost:8080/",
          "height": 405
        },
        "id": "nICtdkxBgAd-",
        "outputId": "e9db7b85-0a26-4bd4-86f1-f1c3969c8413"
      },
      "outputs": [
        {
          "data": {
            "text/plain": [
              "<matplotlib.legend.Legend at 0x7f5548193a00>"
            ]
          },
          "execution_count": 15,
          "metadata": {},
          "output_type": "execute_result"
        },
        {
          "data": {
            "image/png": "[encoded data removed]",
            "text/plain": [
              "<Figure size 1500x400 with 2 Axes>"
            ]
          },
          "metadata": {},
          "output_type": "display_data"
        }
      ],
      "source": [
        "# Visualization\n",
        "import pickle\n",
        "from matplotlib import pyplot as plt\n",
        "\n",
        "train_hist = pickle.load(open('./train_history.pkl',\"rb\"))\n",
        "\n",
        "fig, (ax1, ax2) = plt.subplots(1, 2, figsize=(15, 4))\n",
        "fig.suptitle('Training history', fontsize=14, fontweight='bold')\n",
        "\n",
        "ax1.plot(train_hist['loss'])\n",
        "ax1.plot(train_hist['val_loss'])\n",
        "ax1.set(xlabel='epoch', ylabel='Loss')\n",
        "ax1.legend(['train', 'valid'], loc='upper right')\n",
        "\n",
        "ax2.plot(train_hist['mae'])\n",
        "ax2.plot(train_hist['val_mae'])\n",
        "ax2.set(xlabel='epoch', ylabel='MAE')\n",
        "ax2.legend(['train', 'valid'], loc='upper right')"
      ]
    },
    {
      "cell_type": "markdown",
      "metadata": {
        "id": "IA-fq_eD4gJ4"
      },
      "source": [
        "## Visualize the prediction for a sample"
      ]
    },
    {
      "cell_type": "code",
      "execution_count": 11,
      "metadata": {
        "colab": {
          "base_uri": "https://localhost:8080/",
          "height": 870
        },
        "id": "f6POZc_2xK1_",
        "outputId": "043d803e-8673-4988-a343-dba87360ae48"
      },
      "outputs": [
        {
          "name": "stdout",
          "output_type": "stream",
          "text": [
            "Visualization of the predictions on the first sample of the test set\n"
          ]
        },
        {
          "ename": "NameError",
          "evalue": "name 'test_dg' is not defined",
          "output_type": "error",
          "traceback": [
            "\u001b[0;31m---------------------------------------------------------------------------\u001b[0m",
            "\u001b[0;31mNameError\u001b[0m                                 Traceback (most recent call last)",
            "Cell \u001b[0;32mIn[11], line 9\u001b[0m\n\u001b[1;32m      7\u001b[0m \u001b[38;5;66;03m# Load the batch\u001b[39;00m\n\u001b[1;32m      8\u001b[0m step \u001b[38;5;241m=\u001b[39m \u001b[38;5;241m0\u001b[39m\n\u001b[0;32m----> 9\u001b[0m X, Y \u001b[38;5;241m=\u001b[39m \u001b[43mtest_dg\u001b[49m\u001b[38;5;241m.\u001b[39m\u001b[38;5;21m__getitem__\u001b[39m(step)\n\u001b[1;32m     11\u001b[0m \u001b[38;5;66;03m# validate on one batch\u001b[39;00m\n\u001b[1;32m     12\u001b[0m prediction \u001b[38;5;241m=\u001b[39m model\u001b[38;5;241m.\u001b[39mpredict(tf\u001b[38;5;241m.\u001b[39mconvert_to_tensor(X, dtype\u001b[38;5;241m=\u001b[39mtf\u001b[38;5;241m.\u001b[39mfloat32), verbose\u001b[38;5;241m=\u001b[39m\u001b[38;5;241m0\u001b[39m)\n",
            "\u001b[0;31mNameError\u001b[0m: name 'test_dg' is not defined"
          ]
        }
      ],
      "source": [
        "import numpy as np\n",
        "import pickle\n",
        "from matplotlib import pyplot as plt\n",
        "\n",
        "print('Visualization of the predictions on the first sample of the test set')\n",
        "\n",
        "# Load the batch\n",
        "step = 0\n",
        "X, Y = test_dg.__getitem__(step)\n",
        "  \n",
        "# validate on one batch\n",
        "prediction = model.predict(tf.convert_to_tensor(X, dtype=tf.float32), verbose=0)\n",
        "\n",
        "# Some house keeping\n",
        "gc.collect()\n",
        "tf.keras.backend.clear_session()\n",
        "\n",
        "# Visualize an example prediction\n",
        "plt.imshow(Y[0])\n",
        "plt.show()\n",
        "plt.imshow(prediction[0])\n",
        "plt.show()"
      ]
    }
  ],
  "metadata": {
    "accelerator": "GPU",
    "colab": {
      "provenance": []
    },
    "gpuClass": "standard",
    "kernelspec": {
      "display_name": "Python 3",
      "name": "python3"
    },
    "language_info": {
      "codemirror_mode": {
        "name": "ipython",
        "version": 3
      },
      "file_extension": ".py",
      "mimetype": "text/x-python",
      "name": "python",
      "nbconvert_exporter": "python",
      "pygments_lexer": "ipython3",
      "version": "3.11.5"
    }
  },
  "nbformat": 4,
  "nbformat_minor": 0
}
